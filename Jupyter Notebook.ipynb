{
 "cells": [
  {
   "cell_type": "code",
   "execution_count": null,
   "metadata": {},
   "outputs": [],
   "source": [
    "# First step is to download your messages from Facebook. This is very simple to do. Google it\n",
    "# I have removed my personal messages for obvious reason. \n",
    "# The HTML-Merger File is used to created 1 HTML file for all your messages. This will come in handy for those who have multiple lenghts files for their messages"
   ]
  },
  {
   "cell_type": "code",
   "execution_count": 19,
   "metadata": {},
   "outputs": [],
   "source": [
    "import os\n",
    "from bs4 import BeautifulSoup as bs"
   ]
  },
  {
   "cell_type": "code",
   "execution_count": 20,
   "metadata": {},
   "outputs": [],
   "source": [
    "#Depending on your file path, \n",
    "filepath = os.path.join(\"YOURFILEPATH\", \"index.html\")\n",
    "with open(filepath, encoding=\"utf8\") as file:\n",
    "    html=file.read()"
   ]
  },
  {
   "cell_type": "code",
   "execution_count": 21,
   "metadata": {},
   "outputs": [],
   "source": [
    "soup = bs(html, 'lxml')"
   ]
  },
  {
   "cell_type": "code",
   "execution_count": 22,
   "metadata": {
    "tags": []
   },
   "outputs": [],
   "source": [
    "ALL = []\n",
    "for MESSAGES in soup.find_all('div', attrs={'class':'_3-96 _2let'}):\n",
    "    ALL.append(MESSAGES.get_text())\n",
    "#print(ALL)"
   ]
  },
  {
   "cell_type": "code",
   "execution_count": 23,
   "metadata": {
    "tags": []
   },
   "outputs": [],
   "source": [
    "WORDS = []\n",
    "for i in range(0, len(ALL)):\n",
    "    str = ALL[i]\n",
    "    for x in str.split():\n",
    "        WORDS.append(x)"
   ]
  },
  {
   "cell_type": "code",
   "execution_count": null,
   "metadata": {
    "tags": [
     "outputPrepend"
    ]
   },
   "outputs": [],
   "source": [
    "#print(WORDS)"
   ]
  },
  {
   "cell_type": "code",
   "execution_count": 24,
   "metadata": {
    "tags": []
   },
   "outputs": [],
   "source": [
    "from collections import Counter\n",
    "counts = Counter(WORDS)\n",
    "#print(counts)"
   ]
  },
  {
   "cell_type": "code",
   "execution_count": 25,
   "metadata": {},
   "outputs": [],
   "source": [
    "#pd.reset_option('^display.', silent=True)\n",
    "\n",
    "import pandas as pd\n",
    "df = pd.Series(WORDS).value_counts()\n",
    "ANALYZE = df.to_frame()"
   ]
  },
  {
   "cell_type": "code",
   "execution_count": null,
   "metadata": {},
   "outputs": [],
   "source": [
    "#ANALYZE"
   ]
  },
  {
   "cell_type": "code",
   "execution_count": null,
   "metadata": {},
   "outputs": [],
   "source": [
    "#for col in ANALYZE.columns:\n",
    "   # print(col)"
   ]
  },
  {
   "cell_type": "code",
   "execution_count": 26,
   "metadata": {},
   "outputs": [
    {
     "output_type": "execute_result",
     "data": {
      "text/plain": [
       "                                                  Words  Freq\n",
       "0                                                   you  1340\n",
       "1                                                    to  1286\n",
       "2                                                     I  1192\n",
       "3                                                   the  1154\n",
       "4                                                     a  1120\n",
       "...                                                 ...   ...\n",
       "7987                                        distracting     1\n",
       "7988                                          anyways!!     1\n",
       "7989  https://us04web.zoom.us/j/79441449566?pwd=MFZE...     1\n",
       "7990                                         depressing     1\n",
       "7991                                            however     1\n",
       "\n",
       "[7992 rows x 2 columns]"
      ],
      "text/html": "<div>\n<style scoped>\n    .dataframe tbody tr th:only-of-type {\n        vertical-align: middle;\n    }\n\n    .dataframe tbody tr th {\n        vertical-align: top;\n    }\n\n    .dataframe thead th {\n        text-align: right;\n    }\n</style>\n<table border=\"1\" class=\"dataframe\">\n  <thead>\n    <tr style=\"text-align: right;\">\n      <th></th>\n      <th>Words</th>\n      <th>Freq</th>\n    </tr>\n  </thead>\n  <tbody>\n    <tr>\n      <th>0</th>\n      <td>you</td>\n      <td>1340</td>\n    </tr>\n    <tr>\n      <th>1</th>\n      <td>to</td>\n      <td>1286</td>\n    </tr>\n    <tr>\n      <th>2</th>\n      <td>I</td>\n      <td>1192</td>\n    </tr>\n    <tr>\n      <th>3</th>\n      <td>the</td>\n      <td>1154</td>\n    </tr>\n    <tr>\n      <th>4</th>\n      <td>a</td>\n      <td>1120</td>\n    </tr>\n    <tr>\n      <th>...</th>\n      <td>...</td>\n      <td>...</td>\n    </tr>\n    <tr>\n      <th>7987</th>\n      <td>distracting</td>\n      <td>1</td>\n    </tr>\n    <tr>\n      <th>7988</th>\n      <td>anyways!!</td>\n      <td>1</td>\n    </tr>\n    <tr>\n      <th>7989</th>\n      <td>https://us04web.zoom.us/j/79441449566?pwd=MFZE...</td>\n      <td>1</td>\n    </tr>\n    <tr>\n      <th>7990</th>\n      <td>depressing</td>\n      <td>1</td>\n    </tr>\n    <tr>\n      <th>7991</th>\n      <td>however</td>\n      <td>1</td>\n    </tr>\n  </tbody>\n</table>\n<p>7992 rows × 2 columns</p>\n</div>"
     },
     "metadata": {},
     "execution_count": 26
    }
   ],
   "source": [
    "Word_Count = ANALYZE.reset_index()\n",
    "WC_df = Word_Count.rename(columns={\"index\": \"Words\", 0: \"Freq\"})\n",
    "wC_df"
   ]
  }
 ],
 "metadata": {
  "kernelspec": {
   "display_name": "Python 3",
   "language": "python",
   "name": "python3"
  },
  "language_info": {
   "codemirror_mode": {
    "name": "ipython",
    "version": 3
   },
   "file_extension": ".py",
   "mimetype": "text/x-python",
   "name": "python",
   "nbconvert_exporter": "python",
   "pygments_lexer": "ipython3",
   "version": "3.8.3-final"
  },
  "nteract": {
   "version": "0.2.0"
  },
  "varInspector": {
   "cols": {
    "lenName": 16,
    "lenType": 16,
    "lenVar": 40
   },
   "kernels_config": {
    "python": {
     "delete_cmd_postfix": "",
     "delete_cmd_prefix": "del ",
     "library": "var_list.py",
     "varRefreshCmd": "print(var_dic_list())"
    },
    "r": {
     "delete_cmd_postfix": ") ",
     "delete_cmd_prefix": "rm(",
     "library": "var_list.r",
     "varRefreshCmd": "cat(var_dic_list()) "
    }
   },
   "types_to_exclude": [
    "module",
    "function",
    "builtin_function_or_method",
    "instance",
    "_Feature"
   ],
   "window_display": false
  }
 },
 "nbformat": 4,
 "nbformat_minor": 2
}